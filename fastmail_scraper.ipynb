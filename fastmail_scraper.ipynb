{
  "nbformat": 4,
  "nbformat_minor": 0,
  "metadata": {
    "colab": {
      "name": "fastmail-scraper",
      "provenance": [],
      "collapsed_sections": [],
      "authorship_tag": "ABX9TyPMvltnnX/R5/VQ4mm4bQgw",
      "include_colab_link": true
    },
    "kernelspec": {
      "name": "python3",
      "display_name": "Python 3"
    },
    "language_info": {
      "name": "python"
    }
  },
  "cells": [
    {
      "cell_type": "markdown",
      "metadata": {
        "id": "view-in-github",
        "colab_type": "text"
      },
      "source": [
        "<a href=\"https://colab.research.google.com/github/CastHash532/fastmail-scraper/blob/main/fastmail_scraper.ipynb\" target=\"_parent\"><img src=\"https://colab.research.google.com/assets/colab-badge.svg\" alt=\"Open In Colab\"/></a>"
      ]
    },
    {
      "cell_type": "code",
      "metadata": {
        "id": "K-iKR0rjvC4c",
        "cellView": "form"
      },
      "source": [
        "#@title **Extraction**\n",
        "#@markdown Expected extraction wait time : 10 min for full month\n",
        "\n",
        "debut = '2021-09-01' #@param {type:\"date\"}\n",
        "fin = '2021-09-23' #@param {type:\"date\"}\n",
        "\n",
        "\n",
        "# Imports\n",
        "import requests\n",
        "import numpy as np\n",
        "import pandas as pd\n",
        "import sys\n",
        "import json\n",
        "import datetime\n",
        "import matplotlib.pyplot as plt\n",
        "from multiprocessing.pool import ThreadPool\n",
        "\n",
        "\n",
        "\n",
        "Headers = {\n",
        "'Host': 'fastmaildz.com',\n",
        "'Referer': 'https://fastmaildz.com/newfastmail/public/passportstatus',\n",
        "}\n",
        "\n",
        "client = requests.session()\n",
        "\n",
        "# Retrieve the CSRF token first\n",
        "client.get('https://fastmaildz.com/newfastmail/public/passportstatus')  # sets cookie\n",
        "if 'csrftoken' in client.cookies:\n",
        "    # Django 1.6 and up\n",
        "    csrftoken = client.cookies['csrftoken']\n",
        "else:\n",
        "    # older versions\n",
        "    csrftoken = client.cookies['csrf']\n",
        "\n",
        "dates = pd.date_range(start=debut, end=fin).tolist() #range of dates\n",
        "data = []\n",
        "\n",
        "def get_status(date):\n",
        "  for i in range(1,300):\n",
        "\n",
        "    a=\"%03d\" % i\n",
        "    b= date.strftime('%02d%02m%02y')\n",
        "    url = 'https://fastmaildz.com/newfastmail/public/packagestatus?searchoption=ndossier&destination=ALGI&nb='+b+'%2F0'+a+'%2F01&csrfmiddlewaretoken='+csrftoken\n",
        "    response =  client.get(url, headers=Headers)\n",
        "    if response.status_code !=  400:\n",
        "      data.append(response.json())\n",
        "\n",
        "print('extracting data from fastmail.dz ...')\n",
        "\n",
        "if __name__ == \"__main__\":\n",
        "    pool = ThreadPool(16)  # Make the Pool of workers\n",
        "    results = pool.map(get_status, dates) #Open the urls in their own threads\n",
        "    pool.close() #close the pool and wait for the work to finish \n",
        "    pool.join() \n",
        "\n",
        "\n",
        "cleaned_data =[]\n",
        "\n",
        "for x in data:\n",
        "  cleaned_data.append(\n",
        "      [\n",
        "       x[1]['courrier']['num_dossier'],\n",
        "       x[1]['courrier']['date_precommande'],\n",
        "       x[1]['courrier']['date_commande'],\n",
        "      ]\n",
        "  )\n",
        "\n",
        "  resultat = pd.DataFrame(cleaned_data, columns= ['id','depot','fin'])"
      ],
      "execution_count": null,
      "outputs": []
    },
    {
      "cell_type": "code",
      "metadata": {
        "id": "aw5lgeRbubeF",
        "colab": {
          "base_uri": "https://localhost:8080/",
          "height": 379
        },
        "cellView": "form",
        "outputId": "b4d56d53-24c4-46a3-9f82-a786480ffb81"
      },
      "source": [
        "#@title **Recherche**\n",
        "date = '2021-09-09' #@param {type:\"date\"}\n",
        "oper = 'depot' #@param [\"depot\",\"fin\"]\n",
        "\n",
        "if oper == 'depot':\n",
        "  recherche = resultat.loc[resultat[oper] == date].sort_values(by=['fin'])\n",
        "  recherche['fin'].hist(bins=20,figsize=(16,6))\n",
        "  nbr_att= recherche.loc[recherche['fin'].isnull()].shape[0]\n",
        "  plt.bar('En_Attente',nbr_att,color='C1')\n",
        "  plt.ylim([0,100])\n",
        "else:\n",
        "  recherche = resultat.loc[resultat[oper] == date].sort_values(by=['depot'])\n",
        "  recherche['depot'].hist(bins=30,figsize=(16,6))\n",
        "  nbr_tot= recherche.shape[0]\n",
        "  plt.bar('Reponses_total',nbr_tot,color='C1')\n",
        "  plt.ylim([0,300])\n",
        "\n"
      ],
      "execution_count": 194,
      "outputs": [
        {
          "output_type": "display_data",
          "data": {
            "image/png": "[encoded data removed]",
            "text/plain": [
              "<Figure size 1152x432 with 1 Axes>"
            ]
          },
          "metadata": {
            "needs_background": "light"
          }
        }
      ]
    }
  ]
}