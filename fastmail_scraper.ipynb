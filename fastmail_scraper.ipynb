{
  "nbformat": 4,
  "nbformat_minor": 0,
  "metadata": {
    "colab": {
      "name": "fastmail-scraper",
      "provenance": [],
      "collapsed_sections": [],
      "authorship_tag": "ABX9TyOQSYIVmEJDBASLexVVf65e",
      "include_colab_link": true
    },
    "kernelspec": {
      "name": "python3",
      "display_name": "Python 3"
    },
    "language_info": {
      "name": "python"
    }
  },
  "cells": [
    {
      "cell_type": "markdown",
      "metadata": {
        "id": "view-in-github",
        "colab_type": "text"
      },
      "source": [
        "<a href=\"https://colab.research.google.com/github/CastHash532/fastmail-scraper/blob/main/fastmail_scraper.ipynb\" target=\"_parent\"><img src=\"https://colab.research.google.com/assets/colab-badge.svg\" alt=\"Open In Colab\"/></a>"
      ]
    },
    {
      "cell_type": "code",
      "metadata": {
        "id": "K-iKR0rjvC4c",
        "cellView": "form"
      },
      "source": [
        "#@title **Extraction**\n",
        "\n",
        "!apt-get install python3-bs4\n",
        "\n",
        "# Imports\n",
        "import requests\n",
        "import numpy as np\n",
        "import pandas as pd\n",
        "from bs4 import BeautifulSoup\n",
        "import sys\n",
        "import json\n",
        "\n",
        "Headers = {\n",
        "'Host': 'fastmaildz.com',\n",
        "'Referer': 'https://fastmaildz.com/newfastmail/public/passportstatus',\n",
        "}\n",
        "\n",
        "client = requests.session()\n",
        "\n",
        "# Retrieve the CSRF token first\n",
        "client.get('https://fastmaildz.com/newfastmail/public/passportstatus')  # sets cookie\n",
        "if 'csrftoken' in client.cookies:\n",
        "    # Django 1.6 and up\n",
        "    csrftoken = client.cookies['csrftoken']\n",
        "else:\n",
        "    # older versions\n",
        "    csrftoken = client.cookies['csrf']\n",
        "\n",
        "data = []\n",
        "\n",
        "for d in range(1,23):\n",
        "  for i in range(1,300):\n",
        "    a=\"%03d\" % i\n",
        "    b=\"%02d\" % d\n",
        "    print('day: '+b+'  - n°:'+a)\n",
        "    url = 'https://fastmaildz.com/newfastmail/public/packagestatus?searchoption=ndossier&destination=ALGI&nb='+b+'0921%2F0'+a+'%2F01&csrfmiddlewaretoken='+csrftoken\n",
        "    response =  client.get(url, headers=Headers)\n",
        "    if response.status_code !=  400:\n",
        "      data.append(response.json())\n",
        "\n",
        "cleaned_data =[]\n",
        "\n",
        "for x in data:\n",
        "  cleaned_data.append(\n",
        "      [\n",
        "       x[1]['courrier']['num_dossier'],\n",
        "       x[1]['courrier']['date_precommande'],\n",
        "       x[1]['courrier']['date_commande'],\n",
        "      ]\n",
        "  )\n",
        "\n",
        "  resultat = pd.DataFrame(cleaned_data, columns= ['id','depot','fin'])"
      ],
      "execution_count": null,
      "outputs": []
    },
    {
      "cell_type": "code",
      "metadata": {
        "id": "aw5lgeRbubeF",
        "colab": {
          "base_uri": "https://localhost:8080/"
        },
        "cellView": "form",
        "outputId": "0783efb6-97a1-4d61-9bff-75330dcd2174"
      },
      "source": [
        "#@title Recherche\n",
        "oper = 'depot' #@param [\"depot\",\"fin\"]\n",
        "date = '2021-09-09' #@param {type:\"date\"}\n",
        "recherche = resultat.loc[resultat[oper] == date]\n",
        "print('# Dossiers traités:')\n",
        "print(recherche[oper].value_counts())\n",
        "print('# Dossiers non traités:')\n",
        "print(recherche['fin'].isna().sum())"
      ],
      "execution_count": 332,
      "outputs": [
        {
          "output_type": "stream",
          "name": "stdout",
          "text": [
            "# Dossiers traités:\n",
            "2021-09-09    209\n",
            "Name: depot, dtype: int64\n",
            "# Dossiers non traités:\n",
            "52\n"
          ]
        }
      ]
    }
  ]
}