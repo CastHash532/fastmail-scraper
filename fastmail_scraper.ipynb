{
  "nbformat": 4,
  "nbformat_minor": 0,
  "metadata": {
    "colab": {
      "name": "fastmail-scraper",
      "provenance": [],
      "collapsed_sections": [],
      "authorship_tag": "ABX9TyMmUUc6vP5j8jXF0mbDzP6C",
      "include_colab_link": true
    },
    "kernelspec": {
      "name": "python3",
      "display_name": "Python 3"
    },
    "language_info": {
      "name": "python"
    }
  },
  "cells": [
    {
      "cell_type": "markdown",
      "metadata": {
        "id": "view-in-github",
        "colab_type": "text"
      },
      "source": [
        "<a href=\"https://colab.research.google.com/github/CastHash532/fastmail-scraper/blob/main/fastmail_scraper.ipynb\" target=\"_parent\"><img src=\"https://colab.research.google.com/assets/colab-badge.svg\" alt=\"Open In Colab\"/></a>"
      ]
    },
    {
      "cell_type": "code",
      "metadata": {
        "id": "K-iKR0rjvC4c",
        "cellView": "form",
        "colab": {
          "base_uri": "https://localhost:8080/"
        },
        "outputId": "7718fff1-7435-4b2d-c0be-695f9ef73160"
      },
      "source": [
        "#@title **Extraction**\n",
        "#@markdown Expected extraction wait time : 10 min for full month\n",
        "\n",
        "debut = '2021-09-01' #@param {type:\"date\"}\n",
        "fin = '2021-09-26' #@param {type:\"date\"}\n",
        "\n",
        "\n",
        "# Imports\n",
        "import requests\n",
        "import numpy as np\n",
        "import pandas as pd\n",
        "import sys\n",
        "import json\n",
        "import datetime\n",
        "import matplotlib.pyplot as plt\n",
        "from multiprocessing.pool import ThreadPool\n",
        "\n",
        "\n",
        "\n",
        "Headers = {\n",
        "'Host': 'fastmaildz.com',\n",
        "'Referer': 'https://fastmaildz.com/newfastmail/public/passportstatus',\n",
        "}\n",
        "\n",
        "client = requests.session()\n",
        "\n",
        "# Retrieve the CSRF token first\n",
        "client.get('https://fastmaildz.com/newfastmail/public/passportstatus')  # sets cookie\n",
        "if 'csrftoken' in client.cookies:\n",
        "    # Django 1.6 and up\n",
        "    csrftoken = client.cookies['csrftoken']\n",
        "else:\n",
        "    # older versions\n",
        "    csrftoken = client.cookies['csrf']\n",
        "\n",
        "dates = pd.date_range(start=debut, end=fin).tolist() #range of dates\n",
        "data = []\n",
        "\n",
        "def get_status(date):\n",
        "  for i in range(1,300):\n",
        "\n",
        "    a=\"%03d\" % i\n",
        "    b= date.strftime('%02d%02m%02y')\n",
        "    url = 'https://fastmaildz.com/newfastmail/public/packagestatus?searchoption=ndossier&destination=ALGI&nb='+b+'%2F0'+a+'%2F01&csrfmiddlewaretoken='+csrftoken\n",
        "    response =  client.get(url, headers=Headers)\n",
        "    if response.status_code !=  400:\n",
        "      data.append(response.json())\n",
        "\n",
        "print('extracting data from fastmail.dz ...')\n",
        "\n",
        "if __name__ == \"__main__\":\n",
        "    pool = ThreadPool(16)  # Make the Pool of workers\n",
        "    results = pool.map(get_status, dates) #Open the urls in their own threads\n",
        "    pool.close() #close the pool and wait for the work to finish \n",
        "    pool.join() \n",
        "\n",
        "\n",
        "cleaned_data =[]\n",
        "\n",
        "for x in data:\n",
        "  cleaned_data.append(\n",
        "      [\n",
        "       x[1]['courrier']['num_dossier'],\n",
        "       x[1]['courrier']['date_precommande'],\n",
        "       x[1]['courrier']['date_commande'],\n",
        "      ]\n",
        "  )\n",
        "\n",
        "  resultat = pd.DataFrame(cleaned_data, columns= ['id','depot','fin'])"
      ],
      "execution_count": 26,
      "outputs": [
        {
          "output_type": "stream",
          "name": "stdout",
          "text": [
            "extracting data from fastmail.dz ...\n"
          ]
        }
      ]
    },
    {
      "cell_type": "code",
      "metadata": {
        "id": "aw5lgeRbubeF",
        "colab": {
          "base_uri": "https://localhost:8080/",
          "height": 717
        },
        "cellView": "form",
        "outputId": "e31809c6-ba96-4281-c884-70cd1b9b0c5b"
      },
      "source": [
        "#@title **Recherche**\n",
        "date = '2021-09-26' #@param {type:\"date\"}\n",
        "oper = 'fin' #@param [\"depot\",\"fin\"]\n",
        "\n",
        "if oper == 'depot':\n",
        "  recherche = resultat.loc[resultat[oper] == date].sort_values(by=['fin'])\n",
        "  recherche['fin'].hist(bins=20,figsize=(20,6))\n",
        "  nbr_att= recherche.loc[recherche['fin'].isnull()].shape[0]\n",
        "  Nbr_demandes=recherche.shape[0]\n",
        "  plt.bar('En_Attente',nbr_att,color='C1')\n",
        "  plt.bar('Nbr_demandes',Nbr_demandes,color='C2')\n",
        "  #plt.ylim([0,300])\n",
        "else:\n",
        "  recherche = resultat.loc[resultat[oper] == date].sort_values(by=['depot'])\n",
        "  recherche['depot'].hist(bins=30,figsize=(20,6))\n",
        "  nbr_tot= recherche.shape[0]\n",
        "  plt.bar('Reponses_total',nbr_tot,color='C1')\n",
        "  #plt.ylim([0,300])\n"
      ],
      "execution_count": 39,
      "outputs": [
        {
          "output_type": "execute_result",
          "data": {
            "text/html": [
              "<div>\n",
              "<style scoped>\n",
              "    .dataframe tbody tr th:only-of-type {\n",
              "        vertical-align: middle;\n",
              "    }\n",
              "\n",
              "    .dataframe tbody tr th {\n",
              "        vertical-align: top;\n",
              "    }\n",
              "\n",
              "    .dataframe thead th {\n",
              "        text-align: right;\n",
              "    }\n",
              "</style>\n",
              "<table border=\"1\" class=\"dataframe\">\n",
              "  <thead>\n",
              "    <tr style=\"text-align: right;\">\n",
              "      <th></th>\n",
              "      <th>id</th>\n",
              "      <th>depot</th>\n",
              "      <th>fin</th>\n",
              "    </tr>\n",
              "  </thead>\n",
              "  <tbody>\n",
              "    <tr>\n",
              "      <th>1800</th>\n",
              "      <td>010921/0215/01</td>\n",
              "      <td>2021-09-01</td>\n",
              "      <td>2021-09-26</td>\n",
              "    </tr>\n",
              "    <tr>\n",
              "      <th>915</th>\n",
              "      <td>010921/0113/01</td>\n",
              "      <td>2021-09-01</td>\n",
              "      <td>2021-09-26</td>\n",
              "    </tr>\n",
              "    <tr>\n",
              "      <th>581</th>\n",
              "      <td>010921/0074/01</td>\n",
              "      <td>2021-09-01</td>\n",
              "      <td>2021-09-26</td>\n",
              "    </tr>\n",
              "    <tr>\n",
              "      <th>1466</th>\n",
              "      <td>020921/0176/01</td>\n",
              "      <td>2021-09-02</td>\n",
              "      <td>2021-09-26</td>\n",
              "    </tr>\n",
              "    <tr>\n",
              "      <th>246</th>\n",
              "      <td>020921/0027/01</td>\n",
              "      <td>2021-09-02</td>\n",
              "      <td>2021-09-26</td>\n",
              "    </tr>\n",
              "    <tr>\n",
              "      <th>...</th>\n",
              "      <td>...</td>\n",
              "      <td>...</td>\n",
              "      <td>...</td>\n",
              "    </tr>\n",
              "    <tr>\n",
              "      <th>3494</th>\n",
              "      <td>210921/0158/01</td>\n",
              "      <td>2021-09-21</td>\n",
              "      <td>2021-09-26</td>\n",
              "    </tr>\n",
              "    <tr>\n",
              "      <th>3607</th>\n",
              "      <td>210921/0176/01</td>\n",
              "      <td>2021-09-21</td>\n",
              "      <td>2021-09-26</td>\n",
              "    </tr>\n",
              "    <tr>\n",
              "      <th>3189</th>\n",
              "      <td>210921/0106/01</td>\n",
              "      <td>2021-09-21</td>\n",
              "      <td>2021-09-26</td>\n",
              "    </tr>\n",
              "    <tr>\n",
              "      <th>3167</th>\n",
              "      <td>220921/0095/01</td>\n",
              "      <td>2021-09-22</td>\n",
              "      <td>2021-09-26</td>\n",
              "    </tr>\n",
              "    <tr>\n",
              "      <th>3338</th>\n",
              "      <td>220921/0126/01</td>\n",
              "      <td>2021-09-22</td>\n",
              "      <td>2021-09-26</td>\n",
              "    </tr>\n",
              "  </tbody>\n",
              "</table>\n",
              "<p>175 rows × 3 columns</p>\n",
              "</div>"
            ],
            "text/plain": [
              "                  id       depot         fin\n",
              "1800  010921/0215/01  2021-09-01  2021-09-26\n",
              "915   010921/0113/01  2021-09-01  2021-09-26\n",
              "581   010921/0074/01  2021-09-01  2021-09-26\n",
              "1466  020921/0176/01  2021-09-02  2021-09-26\n",
              "246   020921/0027/01  2021-09-02  2021-09-26\n",
              "...              ...         ...         ...\n",
              "3494  210921/0158/01  2021-09-21  2021-09-26\n",
              "3607  210921/0176/01  2021-09-21  2021-09-26\n",
              "3189  210921/0106/01  2021-09-21  2021-09-26\n",
              "3167  220921/0095/01  2021-09-22  2021-09-26\n",
              "3338  220921/0126/01  2021-09-22  2021-09-26\n",
              "\n",
              "[175 rows x 3 columns]"
            ]
          },
          "metadata": {},
          "execution_count": 39
        },
        {
          "output_type": "display_data",
          "data": {
            "image/png": "[encoded data removed]",
            "text/plain": [
              "<Figure size 1440x432 with 1 Axes>"
            ]
          },
          "metadata": {
            "needs_background": "light"
          }
        }
      ]
    }
  ]
}